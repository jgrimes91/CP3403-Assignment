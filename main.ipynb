{
 "cells": [
  {
   "cell_type": "code",
   "execution_count": 6,
   "id": "initial_id",
   "metadata": {
    "collapsed": true,
    "ExecuteTime": {
     "end_time": "2024-03-06T05:16:00.096592600Z",
     "start_time": "2024-03-06T05:15:57.625448Z"
    }
   },
   "outputs": [
    {
     "data": {
      "text/plain": "    sex  age  height  weight  waistline  sight_left  sight_right  hear_left  \\\n0  Male   35     170      75       90.0         1.0          1.0        1.0   \n1  Male   30     180      80       89.0         0.9          1.2        1.0   \n2  Male   40     165      75       91.0         1.2          1.5        1.0   \n3  Male   50     175      80       91.0         1.5          1.2        1.0   \n4  Male   50     165      60       80.0         1.0          1.2        1.0   \n\n   hear_right    SBP  ...  LDL_chole  triglyceride  hemoglobin  urine_protein  \\\n0         1.0  120.0  ...      126.0          92.0        17.1            1.0   \n1         1.0  130.0  ...      148.0         121.0        15.8            1.0   \n2         1.0  120.0  ...       74.0         104.0        15.8            1.0   \n3         1.0  145.0  ...      104.0         106.0        17.6            1.0   \n4         1.0  138.0  ...      117.0         104.0        13.8            1.0   \n\n   serum_creatinine  SGOT_AST  SGOT_ALT  gamma_GTP  SMK_stat_type_cd  DRK_YN  \n0               1.0      21.0      35.0       40.0               1.0       Y  \n1               0.9      20.0      36.0       27.0               3.0       N  \n2               0.9      47.0      32.0       68.0               1.0       N  \n3               1.1      29.0      34.0       18.0               1.0       N  \n4               0.8      19.0      12.0       25.0               1.0       N  \n\n[5 rows x 24 columns]",
      "text/html": "<div>\n<style scoped>\n    .dataframe tbody tr th:only-of-type {\n        vertical-align: middle;\n    }\n\n    .dataframe tbody tr th {\n        vertical-align: top;\n    }\n\n    .dataframe thead th {\n        text-align: right;\n    }\n</style>\n<table border=\"1\" class=\"dataframe\">\n  <thead>\n    <tr style=\"text-align: right;\">\n      <th></th>\n      <th>sex</th>\n      <th>age</th>\n      <th>height</th>\n      <th>weight</th>\n      <th>waistline</th>\n      <th>sight_left</th>\n      <th>sight_right</th>\n      <th>hear_left</th>\n      <th>hear_right</th>\n      <th>SBP</th>\n      <th>...</th>\n      <th>LDL_chole</th>\n      <th>triglyceride</th>\n      <th>hemoglobin</th>\n      <th>urine_protein</th>\n      <th>serum_creatinine</th>\n      <th>SGOT_AST</th>\n      <th>SGOT_ALT</th>\n      <th>gamma_GTP</th>\n      <th>SMK_stat_type_cd</th>\n      <th>DRK_YN</th>\n    </tr>\n  </thead>\n  <tbody>\n    <tr>\n      <th>0</th>\n      <td>Male</td>\n      <td>35</td>\n      <td>170</td>\n      <td>75</td>\n      <td>90.0</td>\n      <td>1.0</td>\n      <td>1.0</td>\n      <td>1.0</td>\n      <td>1.0</td>\n      <td>120.0</td>\n      <td>...</td>\n      <td>126.0</td>\n      <td>92.0</td>\n      <td>17.1</td>\n      <td>1.0</td>\n      <td>1.0</td>\n      <td>21.0</td>\n      <td>35.0</td>\n      <td>40.0</td>\n      <td>1.0</td>\n      <td>Y</td>\n    </tr>\n    <tr>\n      <th>1</th>\n      <td>Male</td>\n      <td>30</td>\n      <td>180</td>\n      <td>80</td>\n      <td>89.0</td>\n      <td>0.9</td>\n      <td>1.2</td>\n      <td>1.0</td>\n      <td>1.0</td>\n      <td>130.0</td>\n      <td>...</td>\n      <td>148.0</td>\n      <td>121.0</td>\n      <td>15.8</td>\n      <td>1.0</td>\n      <td>0.9</td>\n      <td>20.0</td>\n      <td>36.0</td>\n      <td>27.0</td>\n      <td>3.0</td>\n      <td>N</td>\n    </tr>\n    <tr>\n      <th>2</th>\n      <td>Male</td>\n      <td>40</td>\n      <td>165</td>\n      <td>75</td>\n      <td>91.0</td>\n      <td>1.2</td>\n      <td>1.5</td>\n      <td>1.0</td>\n      <td>1.0</td>\n      <td>120.0</td>\n      <td>...</td>\n      <td>74.0</td>\n      <td>104.0</td>\n      <td>15.8</td>\n      <td>1.0</td>\n      <td>0.9</td>\n      <td>47.0</td>\n      <td>32.0</td>\n      <td>68.0</td>\n      <td>1.0</td>\n      <td>N</td>\n    </tr>\n    <tr>\n      <th>3</th>\n      <td>Male</td>\n      <td>50</td>\n      <td>175</td>\n      <td>80</td>\n      <td>91.0</td>\n      <td>1.5</td>\n      <td>1.2</td>\n      <td>1.0</td>\n      <td>1.0</td>\n      <td>145.0</td>\n      <td>...</td>\n      <td>104.0</td>\n      <td>106.0</td>\n      <td>17.6</td>\n      <td>1.0</td>\n      <td>1.1</td>\n      <td>29.0</td>\n      <td>34.0</td>\n      <td>18.0</td>\n      <td>1.0</td>\n      <td>N</td>\n    </tr>\n    <tr>\n      <th>4</th>\n      <td>Male</td>\n      <td>50</td>\n      <td>165</td>\n      <td>60</td>\n      <td>80.0</td>\n      <td>1.0</td>\n      <td>1.2</td>\n      <td>1.0</td>\n      <td>1.0</td>\n      <td>138.0</td>\n      <td>...</td>\n      <td>117.0</td>\n      <td>104.0</td>\n      <td>13.8</td>\n      <td>1.0</td>\n      <td>0.8</td>\n      <td>19.0</td>\n      <td>12.0</td>\n      <td>25.0</td>\n      <td>1.0</td>\n      <td>N</td>\n    </tr>\n  </tbody>\n</table>\n<p>5 rows × 24 columns</p>\n</div>"
     },
     "execution_count": 6,
     "metadata": {},
     "output_type": "execute_result"
    }
   ],
   "source": [
    "import pandas as pd\n",
    "\n",
    "data = pd.read_csv('smoking_drinking_dataset_Ver01.csv')\n",
    "\n",
    "data.head()"
   ]
  },
  {
   "cell_type": "code",
   "outputs": [
    {
     "name": "stdout",
     "output_type": "stream",
     "text": [
      "sex\n",
      "Male      526415\n",
      "Female    464931\n",
      "Name: count, dtype: int64\n",
      "DRK_YN\n",
      "N    495858\n",
      "Y    495488\n",
      "Name: count, dtype: int64\n"
     ]
    }
   ],
   "source": [
    "from pandas.api.types import is_numeric_dtype\n",
    "\n",
    "# For each column, if the column is categorical, print a count of each data category\n",
    "for col in data.columns:\n",
    "    if not is_numeric_dtype(data[col]):\n",
    "        print(data[col].value_counts())\n",
    "        \n"
   ],
   "metadata": {
    "collapsed": false,
    "ExecuteTime": {
     "end_time": "2024-03-06T05:21:07.558129100Z",
     "start_time": "2024-03-06T05:21:07.403637900Z"
    }
   },
   "id": "81ddc3294db78b84",
   "execution_count": 8
  },
  {
   "cell_type": "code",
   "outputs": [
    {
     "data": {
      "text/plain": "           sex            age         height         weight      waistline  \\\ncount   991346  991346.000000  991346.000000  991346.000000  991346.000000   \nunique       2            NaN            NaN            NaN            NaN   \ntop       Male            NaN            NaN            NaN            NaN   \nfreq    526415            NaN            NaN            NaN            NaN   \nmean       NaN      47.614491     162.240625      63.284050      81.233358   \nstd        NaN      14.181339       9.282957      12.514241      11.850323   \nmin        NaN      20.000000     130.000000      25.000000       8.000000   \n25%        NaN      35.000000     155.000000      55.000000      74.100000   \n50%        NaN      45.000000     160.000000      60.000000      81.000000   \n75%        NaN      60.000000     170.000000      70.000000      87.800000   \nmax        NaN      85.000000     190.000000     140.000000     999.000000   \n\n           sight_left    sight_right      hear_left     hear_right  \\\ncount   991346.000000  991346.000000  991346.000000  991346.000000   \nunique            NaN            NaN            NaN            NaN   \ntop               NaN            NaN            NaN            NaN   \nfreq              NaN            NaN            NaN            NaN   \nmean         0.980834       0.978429       1.031495       1.030476   \nstd          0.605949       0.604774       0.174650       0.171892   \nmin          0.100000       0.100000       1.000000       1.000000   \n25%          0.700000       0.700000       1.000000       1.000000   \n50%          1.000000       1.000000       1.000000       1.000000   \n75%          1.200000       1.200000       1.000000       1.000000   \nmax          9.900000       9.900000       2.000000       2.000000   \n\n                  SBP  ...      LDL_chole   triglyceride     hemoglobin  \\\ncount   991346.000000  ...  991346.000000  991346.000000  991346.000000   \nunique            NaN  ...            NaN            NaN            NaN   \ntop               NaN  ...            NaN            NaN            NaN   \nfreq              NaN  ...            NaN            NaN            NaN   \nmean       122.432498  ...     113.037692     132.141751      14.229824   \nstd         14.543148  ...      35.842812     102.196985       1.584929   \nmin         67.000000  ...       1.000000       1.000000       1.000000   \n25%        112.000000  ...      89.000000      73.000000      13.200000   \n50%        120.000000  ...     111.000000     106.000000      14.300000   \n75%        131.000000  ...     135.000000     159.000000      15.400000   \nmax        273.000000  ...    5119.000000    9490.000000      25.000000   \n\n        urine_protein  serum_creatinine       SGOT_AST       SGOT_ALT  \\\ncount   991346.000000     991346.000000  991346.000000  991346.000000   \nunique            NaN               NaN            NaN            NaN   \ntop               NaN               NaN            NaN            NaN   \nfreq              NaN               NaN            NaN            NaN   \nmean         1.094224          0.860467      25.989308      25.755051   \nstd          0.437724          0.480530      23.493386      26.308599   \nmin          1.000000          0.100000       1.000000       1.000000   \n25%          1.000000          0.700000      19.000000      15.000000   \n50%          1.000000          0.800000      23.000000      20.000000   \n75%          1.000000          1.000000      28.000000      29.000000   \nmax          6.000000         98.000000    9999.000000    7210.000000   \n\n            gamma_GTP  SMK_stat_type_cd  DRK_YN  \ncount   991346.000000     991346.000000  991346  \nunique            NaN               NaN       2  \ntop               NaN               NaN       N  \nfreq              NaN               NaN  495858  \nmean        37.136347          1.608122     NaN  \nstd         50.424153          0.818507     NaN  \nmin          1.000000          1.000000     NaN  \n25%         16.000000          1.000000     NaN  \n50%         23.000000          1.000000     NaN  \n75%         39.000000          2.000000     NaN  \nmax        999.000000          3.000000     NaN  \n\n[11 rows x 24 columns]",
      "text/html": "<div>\n<style scoped>\n    .dataframe tbody tr th:only-of-type {\n        vertical-align: middle;\n    }\n\n    .dataframe tbody tr th {\n        vertical-align: top;\n    }\n\n    .dataframe thead th {\n        text-align: right;\n    }\n</style>\n<table border=\"1\" class=\"dataframe\">\n  <thead>\n    <tr style=\"text-align: right;\">\n      <th></th>\n      <th>sex</th>\n      <th>age</th>\n      <th>height</th>\n      <th>weight</th>\n      <th>waistline</th>\n      <th>sight_left</th>\n      <th>sight_right</th>\n      <th>hear_left</th>\n      <th>hear_right</th>\n      <th>SBP</th>\n      <th>...</th>\n      <th>LDL_chole</th>\n      <th>triglyceride</th>\n      <th>hemoglobin</th>\n      <th>urine_protein</th>\n      <th>serum_creatinine</th>\n      <th>SGOT_AST</th>\n      <th>SGOT_ALT</th>\n      <th>gamma_GTP</th>\n      <th>SMK_stat_type_cd</th>\n      <th>DRK_YN</th>\n    </tr>\n  </thead>\n  <tbody>\n    <tr>\n      <th>count</th>\n      <td>991346</td>\n      <td>991346.000000</td>\n      <td>991346.000000</td>\n      <td>991346.000000</td>\n      <td>991346.000000</td>\n      <td>991346.000000</td>\n      <td>991346.000000</td>\n      <td>991346.000000</td>\n      <td>991346.000000</td>\n      <td>991346.000000</td>\n      <td>...</td>\n      <td>991346.000000</td>\n      <td>991346.000000</td>\n      <td>991346.000000</td>\n      <td>991346.000000</td>\n      <td>991346.000000</td>\n      <td>991346.000000</td>\n      <td>991346.000000</td>\n      <td>991346.000000</td>\n      <td>991346.000000</td>\n      <td>991346</td>\n    </tr>\n    <tr>\n      <th>unique</th>\n      <td>2</td>\n      <td>NaN</td>\n      <td>NaN</td>\n      <td>NaN</td>\n      <td>NaN</td>\n      <td>NaN</td>\n      <td>NaN</td>\n      <td>NaN</td>\n      <td>NaN</td>\n      <td>NaN</td>\n      <td>...</td>\n      <td>NaN</td>\n      <td>NaN</td>\n      <td>NaN</td>\n      <td>NaN</td>\n      <td>NaN</td>\n      <td>NaN</td>\n      <td>NaN</td>\n      <td>NaN</td>\n      <td>NaN</td>\n      <td>2</td>\n    </tr>\n    <tr>\n      <th>top</th>\n      <td>Male</td>\n      <td>NaN</td>\n      <td>NaN</td>\n      <td>NaN</td>\n      <td>NaN</td>\n      <td>NaN</td>\n      <td>NaN</td>\n      <td>NaN</td>\n      <td>NaN</td>\n      <td>NaN</td>\n      <td>...</td>\n      <td>NaN</td>\n      <td>NaN</td>\n      <td>NaN</td>\n      <td>NaN</td>\n      <td>NaN</td>\n      <td>NaN</td>\n      <td>NaN</td>\n      <td>NaN</td>\n      <td>NaN</td>\n      <td>N</td>\n    </tr>\n    <tr>\n      <th>freq</th>\n      <td>526415</td>\n      <td>NaN</td>\n      <td>NaN</td>\n      <td>NaN</td>\n      <td>NaN</td>\n      <td>NaN</td>\n      <td>NaN</td>\n      <td>NaN</td>\n      <td>NaN</td>\n      <td>NaN</td>\n      <td>...</td>\n      <td>NaN</td>\n      <td>NaN</td>\n      <td>NaN</td>\n      <td>NaN</td>\n      <td>NaN</td>\n      <td>NaN</td>\n      <td>NaN</td>\n      <td>NaN</td>\n      <td>NaN</td>\n      <td>495858</td>\n    </tr>\n    <tr>\n      <th>mean</th>\n      <td>NaN</td>\n      <td>47.614491</td>\n      <td>162.240625</td>\n      <td>63.284050</td>\n      <td>81.233358</td>\n      <td>0.980834</td>\n      <td>0.978429</td>\n      <td>1.031495</td>\n      <td>1.030476</td>\n      <td>122.432498</td>\n      <td>...</td>\n      <td>113.037692</td>\n      <td>132.141751</td>\n      <td>14.229824</td>\n      <td>1.094224</td>\n      <td>0.860467</td>\n      <td>25.989308</td>\n      <td>25.755051</td>\n      <td>37.136347</td>\n      <td>1.608122</td>\n      <td>NaN</td>\n    </tr>\n    <tr>\n      <th>std</th>\n      <td>NaN</td>\n      <td>14.181339</td>\n      <td>9.282957</td>\n      <td>12.514241</td>\n      <td>11.850323</td>\n      <td>0.605949</td>\n      <td>0.604774</td>\n      <td>0.174650</td>\n      <td>0.171892</td>\n      <td>14.543148</td>\n      <td>...</td>\n      <td>35.842812</td>\n      <td>102.196985</td>\n      <td>1.584929</td>\n      <td>0.437724</td>\n      <td>0.480530</td>\n      <td>23.493386</td>\n      <td>26.308599</td>\n      <td>50.424153</td>\n      <td>0.818507</td>\n      <td>NaN</td>\n    </tr>\n    <tr>\n      <th>min</th>\n      <td>NaN</td>\n      <td>20.000000</td>\n      <td>130.000000</td>\n      <td>25.000000</td>\n      <td>8.000000</td>\n      <td>0.100000</td>\n      <td>0.100000</td>\n      <td>1.000000</td>\n      <td>1.000000</td>\n      <td>67.000000</td>\n      <td>...</td>\n      <td>1.000000</td>\n      <td>1.000000</td>\n      <td>1.000000</td>\n      <td>1.000000</td>\n      <td>0.100000</td>\n      <td>1.000000</td>\n      <td>1.000000</td>\n      <td>1.000000</td>\n      <td>1.000000</td>\n      <td>NaN</td>\n    </tr>\n    <tr>\n      <th>25%</th>\n      <td>NaN</td>\n      <td>35.000000</td>\n      <td>155.000000</td>\n      <td>55.000000</td>\n      <td>74.100000</td>\n      <td>0.700000</td>\n      <td>0.700000</td>\n      <td>1.000000</td>\n      <td>1.000000</td>\n      <td>112.000000</td>\n      <td>...</td>\n      <td>89.000000</td>\n      <td>73.000000</td>\n      <td>13.200000</td>\n      <td>1.000000</td>\n      <td>0.700000</td>\n      <td>19.000000</td>\n      <td>15.000000</td>\n      <td>16.000000</td>\n      <td>1.000000</td>\n      <td>NaN</td>\n    </tr>\n    <tr>\n      <th>50%</th>\n      <td>NaN</td>\n      <td>45.000000</td>\n      <td>160.000000</td>\n      <td>60.000000</td>\n      <td>81.000000</td>\n      <td>1.000000</td>\n      <td>1.000000</td>\n      <td>1.000000</td>\n      <td>1.000000</td>\n      <td>120.000000</td>\n      <td>...</td>\n      <td>111.000000</td>\n      <td>106.000000</td>\n      <td>14.300000</td>\n      <td>1.000000</td>\n      <td>0.800000</td>\n      <td>23.000000</td>\n      <td>20.000000</td>\n      <td>23.000000</td>\n      <td>1.000000</td>\n      <td>NaN</td>\n    </tr>\n    <tr>\n      <th>75%</th>\n      <td>NaN</td>\n      <td>60.000000</td>\n      <td>170.000000</td>\n      <td>70.000000</td>\n      <td>87.800000</td>\n      <td>1.200000</td>\n      <td>1.200000</td>\n      <td>1.000000</td>\n      <td>1.000000</td>\n      <td>131.000000</td>\n      <td>...</td>\n      <td>135.000000</td>\n      <td>159.000000</td>\n      <td>15.400000</td>\n      <td>1.000000</td>\n      <td>1.000000</td>\n      <td>28.000000</td>\n      <td>29.000000</td>\n      <td>39.000000</td>\n      <td>2.000000</td>\n      <td>NaN</td>\n    </tr>\n    <tr>\n      <th>max</th>\n      <td>NaN</td>\n      <td>85.000000</td>\n      <td>190.000000</td>\n      <td>140.000000</td>\n      <td>999.000000</td>\n      <td>9.900000</td>\n      <td>9.900000</td>\n      <td>2.000000</td>\n      <td>2.000000</td>\n      <td>273.000000</td>\n      <td>...</td>\n      <td>5119.000000</td>\n      <td>9490.000000</td>\n      <td>25.000000</td>\n      <td>6.000000</td>\n      <td>98.000000</td>\n      <td>9999.000000</td>\n      <td>7210.000000</td>\n      <td>999.000000</td>\n      <td>3.000000</td>\n      <td>NaN</td>\n    </tr>\n  </tbody>\n</table>\n<p>11 rows × 24 columns</p>\n</div>"
     },
     "execution_count": 9,
     "metadata": {},
     "output_type": "execute_result"
    }
   ],
   "source": [
    "data.describe(include='all')"
   ],
   "metadata": {
    "collapsed": false,
    "ExecuteTime": {
     "end_time": "2024-03-06T05:21:43.111386200Z",
     "start_time": "2024-03-06T05:21:41.896099600Z"
    }
   },
   "id": "bf03d8e0b4490ec8",
   "execution_count": 9
  }
 ],
 "metadata": {
  "kernelspec": {
   "display_name": "Python 3",
   "language": "python",
   "name": "python3"
  },
  "language_info": {
   "codemirror_mode": {
    "name": "ipython",
    "version": 2
   },
   "file_extension": ".py",
   "mimetype": "text/x-python",
   "name": "python",
   "nbconvert_exporter": "python",
   "pygments_lexer": "ipython2",
   "version": "2.7.6"
  }
 },
 "nbformat": 4,
 "nbformat_minor": 5
}
